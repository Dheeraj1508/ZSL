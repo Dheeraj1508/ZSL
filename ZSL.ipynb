{
  "nbformat": 4,
  "nbformat_minor": 0,
  "metadata": {
    "colab": {
      "provenance": []
    },
    "kernelspec": {
      "name": "python3",
      "display_name": "Python 3"
    },
    "language_info": {
      "name": "python"
    }
  },
  "cells": [
    {
      "cell_type": "code",
      "execution_count": null,
      "metadata": {
        "id": "swXfr9kMU-SI"
      },
      "outputs": [],
      "source": [
        "from transformers import pipeline\n",
        "classifier = pipeline(\"zero-shot-classification\",\n",
        "                      model=\"facebook/bart-large-mnli\")"
      ]
    },
    {
      "cell_type": "code",
      "source": [
        "sequence_to_classify = \"one day I will see the world\"\n",
        "candidate_labels = ['travel', 'cooking', 'dancing']\n",
        "classifier(sequence_to_classify, candidate_labels)\n"
      ],
      "metadata": {
        "colab": {
          "base_uri": "https://localhost:8080/"
        },
        "id": "eIcG8A6rVBlB",
        "outputId": "123010d9-5ef3-421b-ffe4-acb66905da25"
      },
      "execution_count": 10,
      "outputs": [
        {
          "output_type": "execute_result",
          "data": {
            "text/plain": [
              "{'sequence': 'one day I will see the world',\n",
              " 'labels': ['travel', 'dancing', 'cooking'],\n",
              " 'scores': [0.9938650727272034, 0.003273802110925317, 0.002861041808500886]}"
            ]
          },
          "metadata": {},
          "execution_count": 10
        }
      ]
    },
    {
      "cell_type": "code",
      "source": [
        "candidate_labels = ['travel', 'cooking', 'dancing', 'exploration']\n",
        "classifier(sequence_to_classify, candidate_labels, multi_label=True)"
      ],
      "metadata": {
        "colab": {
          "base_uri": "https://localhost:8080/"
        },
        "id": "awS47rWkVEJc",
        "outputId": "de81e5a8-eb68-4b3f-e2a7-40381b290d35"
      },
      "execution_count": 11,
      "outputs": [
        {
          "output_type": "execute_result",
          "data": {
            "text/plain": [
              "{'sequence': 'one day I will see the world',\n",
              " 'labels': ['travel', 'exploration', 'dancing', 'cooking'],\n",
              " 'scores': [0.994511067867279,\n",
              "  0.938388466835022,\n",
              "  0.005706192459911108,\n",
              "  0.001819293131120503]}"
            ]
          },
          "metadata": {},
          "execution_count": 11
        }
      ]
    },
    {
      "cell_type": "code",
      "source": [
        "sequence_to_classify = \"Donald Trump will be next president\"\n",
        "candidate_labels = ['science', 'politics', 'history']\n",
        "\n",
        "classifier(sequence_to_classify, candidate_labels)"
      ],
      "metadata": {
        "colab": {
          "base_uri": "https://localhost:8080/"
        },
        "id": "Qdwbx9dnWfzG",
        "outputId": "e7251bd6-47a1-419b-c55c-88044930cd49"
      },
      "execution_count": 12,
      "outputs": [
        {
          "output_type": "execute_result",
          "data": {
            "text/plain": [
              "{'sequence': 'Donald Trump will be next president',\n",
              " 'labels': ['politics', 'history', 'science'],\n",
              " 'scores': [0.8404955863952637, 0.15547935664653778, 0.004025110509246588]}"
            ]
          },
          "metadata": {},
          "execution_count": 12
        }
      ]
    },
    {
      "cell_type": "code",
      "source": [],
      "metadata": {
        "id": "_Iwuz4HwXHUH"
      },
      "execution_count": null,
      "outputs": []
    }
  ]
}